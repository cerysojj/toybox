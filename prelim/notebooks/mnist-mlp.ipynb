{
 "cells": [
  {
   "cell_type": "code",
   "execution_count": 40,
   "metadata": {},
   "outputs": [],
   "source": [
    "#Pytorch Implementation of a 2 Layer MLP\n",
    "import torch\n",
    "import torch.nn as nn\n",
    "import torch.nn.functional as F\n",
    "from torchvision import transforms\n",
    "from torchvision.datasets import MNIST\n",
    "import matplotlib.pyplot as plt\n",
    "import time\n",
    "\n",
    "import numpy as np\n",
    "import pandas as pd\n",
    "import sklearn\n",
    "from sklearn.metrics import confusion_matrix"
   ]
  },
  {
   "cell_type": "code",
   "execution_count": 21,
   "metadata": {},
   "outputs": [],
   "source": [
    "class MLP(nn.Module):\n",
    "  def __init__(self, input_size=784, num_classes=10, layers=[128, 64]):\n",
    "    super(MLP, self).__init__()\n",
    "    #Define the layers in your MLP\n",
    "    self.d1 = nn.Linear(input_size, layers[0])  # input layer\n",
    "    self.d2 = nn.Linear(layers[0], layers[1])   # hidden layer\n",
    "    self.d3 = nn.Linear(layers[1], num_classes) # output layer\n",
    "\n",
    "  def forward(self, x):\n",
    "    #Define operations on input x using the layers that were defined\n",
    "    x = F.relu(self.d1(x))\n",
    "    x = F.relu(self.d2(x))\n",
    "    x = F.log_softmax(self.d3(x), dim=1)\n",
    "    return x"
   ]
  },
  {
   "cell_type": "code",
   "execution_count": 22,
   "metadata": {},
   "outputs": [],
   "source": [
    "#Initalize your MLP\n",
    "model = MLP()\n",
    "\n",
    "#To use GPUs, set a device (cuda) and add it to your net\n",
    "device = torch.device(\"cuda:0\" if torch.cuda.is_available() else \"cpu\")\n",
    "model.to(device)\n",
    "\n",
    "#define hyperparameters\n",
    "learning_rate = 0.01\n",
    "criterion = nn.CrossEntropyLoss()\n",
    "optimizer = torch.optim.SGD(model.parameters(), lr=learning_rate)"
   ]
  },
  {
   "cell_type": "code",
   "execution_count": null,
   "metadata": {},
   "outputs": [],
   "source": [
    "!wget www.di.ens.fr/~lelarge/MNIST.tar.gz\n",
    "!tar -zxvf MNIST.tar.gz\n",
    "\n",
    "Transform = transforms.ToTensor()\n",
    "train = MNIST(root='data/', train=True, download=True, transform=Transform)\n",
    "train"
   ]
  },
  {
   "cell_type": "code",
   "execution_count": 10,
   "metadata": {},
   "outputs": [
    {
     "data": {
      "text/plain": [
       "Dataset MNIST\n",
       "    Number of datapoints: 10000\n",
       "    Root location: data/\n",
       "    Split: Test\n",
       "    StandardTransform\n",
       "Transform: ToTensor()"
      ]
     },
     "execution_count": 10,
     "metadata": {},
     "output_type": "execute_result"
    }
   ],
   "source": [
    "test = MNIST(root='data/', train=False, download=True, transform=Transform)\n",
    "test"
   ]
  },
  {
   "cell_type": "code",
   "execution_count": 11,
   "metadata": {},
   "outputs": [
    {
     "name": "stdout",
     "output_type": "stream",
     "text": [
      "Shape: torch.Size([1, 28, 28]) \n",
      "label: 5\n"
     ]
    }
   ],
   "source": [
    "image, label = train[0]\n",
    "print('Shape:', image.shape, '\\nlabel:', label)"
   ]
  },
  {
   "cell_type": "code",
   "execution_count": 14,
   "metadata": {},
   "outputs": [
    {
     "data": {
      "text/plain": [
       "<matplotlib.image.AxesImage at 0x164c3d8d0>"
      ]
     },
     "execution_count": 14,
     "metadata": {},
     "output_type": "execute_result"
    },
    {
     "data": {
      "image/png": "[encoded data removed]",
      "text/plain": [
       "<Figure size 640x480 with 1 Axes>"
      ]
     },
     "metadata": {},
     "output_type": "display_data"
    }
   ],
   "source": [
    "plt.imshow(image[0], cmap='gray')"
   ]
  },
  {
   "cell_type": "code",
   "execution_count": 16,
   "metadata": {},
   "outputs": [],
   "source": [
    "train_loader = torch.utils.data.DataLoader(train, batch_size=100, shuffle=True)\n",
    "test_loader = torch.utils.data.DataLoader(test, batch_size=500, shuffle=False)"
   ]
  },
  {
   "cell_type": "code",
   "execution_count": 25,
   "metadata": {},
   "outputs": [
    {
     "name": "stdout",
     "output_type": "stream",
     "text": [
      "Image: torch.Size([100, 1, 28, 28]) \n",
      "Label: torch.Size([100])\n",
      "Batch shape after flattening: torch.Size([100, 784])\n"
     ]
    }
   ],
   "source": [
    "for image, label in train_loader:\n",
    "  print('Image:', image.shape, '\\nLabel:', label.shape)\n",
    "  break\n",
    "print('Batch shape after flattening:', image.view(100, -1).size())"
   ]
  },
  {
   "cell_type": "code",
   "execution_count": 26,
   "metadata": {},
   "outputs": [
    {
     "name": "stdout",
     "output_type": "stream",
     "text": [
      "Epoch 0 Loss: 2.246330976486206 Accuracy: 23.29%\n",
      "Epoch 0 Loss: 2.0985686779022217 Accuracy: 37.825%\n",
      "Epoch 0 Loss: 1.6619656085968018 Accuracy: 45.395%\n",
      "Epoch 1 Loss: 1.1530166864395142 Accuracy: 70.46%\n",
      "Epoch 1 Loss: 0.7501543164253235 Accuracy: 74.305%\n",
      "Epoch 1 Loss: 0.5224775075912476 Accuracy: 76.51833333333333%\n",
      "Epoch 2 Loss: 0.5544029474258423 Accuracy: 83.555%\n",
      "Epoch 2 Loss: 0.539821445941925 Accuracy: 84.285%\n",
      "Epoch 2 Loss: 0.3481768071651459 Accuracy: 85.02833333333334%\n",
      "Epoch 3 Loss: 0.572827935218811 Accuracy: 87.235%\n",
      "Epoch 3 Loss: 0.38236525654792786 Accuracy: 87.755%\n",
      "Epoch 3 Loss: 0.31393343210220337 Accuracy: 87.94333333333333%\n",
      "Epoch 4 Loss: 0.6142944097518921 Accuracy: 89.035%\n",
      "Epoch 4 Loss: 0.3373410105705261 Accuracy: 88.965%\n",
      "Epoch 4 Loss: 0.3333203196525574 Accuracy: 89.28833333333333%\n",
      "Epoch 5 Loss: 0.21901702880859375 Accuracy: 89.765%\n",
      "Epoch 5 Loss: 0.42148154973983765 Accuracy: 89.965%\n",
      "Epoch 5 Loss: 0.3152449131011963 Accuracy: 90.025%\n",
      "Epoch 6 Loss: 0.3564693331718445 Accuracy: 90.57%\n",
      "Epoch 6 Loss: 0.43764668703079224 Accuracy: 90.465%\n",
      "Epoch 6 Loss: 0.3874772787094116 Accuracy: 90.54166666666667%\n",
      "Epoch 7 Loss: 0.3584563136100769 Accuracy: 91.015%\n",
      "Epoch 7 Loss: 0.46012771129608154 Accuracy: 90.945%\n",
      "Epoch 7 Loss: 0.38860875368118286 Accuracy: 91.02333333333333%\n",
      "Epoch 8 Loss: 0.2353149652481079 Accuracy: 91.38%\n",
      "Epoch 8 Loss: 0.1748688519001007 Accuracy: 91.32%\n",
      "Epoch 8 Loss: 0.2525899410247803 Accuracy: 91.39166666666667%\n",
      "Epoch 9 Loss: 0.27037057280540466 Accuracy: 91.535%\n",
      "Epoch 9 Loss: 0.28981927037239075 Accuracy: 91.7675%\n",
      "Epoch 9 Loss: 0.2785433828830719 Accuracy: 91.76%\n",
      "\n",
      "Duration: 18 seconds\n"
     ]
    }
   ],
   "source": [
    "#Training loop\n",
    "epochs = 10\n",
    "train_losses = []\n",
    "train_correct = []\n",
    "test_losses = []\n",
    "test_correct = []\n",
    "start_time = time.time()\n",
    "\n",
    "for t in range(epochs):\n",
    "    train_corr = 0\n",
    "    test_corr = 0\n",
    "    for b, (x_train, y_train) in enumerate(train_loader):\n",
    "        b+=1\n",
    "        y_pred = model(x_train.view(100, -1))\n",
    "        loss = criterion(y_pred, y_train)\n",
    "\n",
    "        predicted = torch.max(y_pred.data, 1)[1]\n",
    "        batch_corr = (predicted == y_train).sum()\n",
    "        train_corr += batch_corr\n",
    "\n",
    "        optimizer.zero_grad() #reset the gradients from previous batch\n",
    "        loss.backward() #backpropagation\n",
    "        optimizer.step() #update the model's parameters based on the gradients\n",
    "\n",
    "        if b%200 == 0:\n",
    "            print(f'Epoch {t} Loss: {loss.item()} Accuracy: {train_corr.item()*100/(100*b)}%')\n",
    "    \n",
    "    train_losses.append(loss)\n",
    "    train_correct.append(train_corr)\n",
    "\n",
    "    with torch.no_grad(): # forward pass without computing gradients\n",
    "        for b, (x_test, y_test) in enumerate(test_loader):\n",
    "            y_val = model(x_test.view(500, -1))\n",
    "            predicted = torch.max(y_val.data, 1)[1]\n",
    "            test_corr += (predicted == y_test).sum()\n",
    "    \n",
    "    loss = criterion(y_val, y_test)\n",
    "    test_losses.append(loss)\n",
    "    test_correct.append(test_corr)\n",
    "\n",
    "print(f'\\nDuration: {time.time() - start_time:.0f} seconds')"
   ]
  },
  {
   "cell_type": "code",
   "execution_count": 36,
   "metadata": {},
   "outputs": [
    {
     "name": "stdout",
     "output_type": "stream",
     "text": [
      "Test accuracy: 92.040%\n"
     ]
    }
   ],
   "source": [
    "# Test accuracy for last epoch\n",
    "print(f'Test accuracy: {test_correct[-1].item()*100/10000:.3f}%')"
   ]
  },
  {
   "cell_type": "code",
   "execution_count": 42,
   "metadata": {},
   "outputs": [
    {
     "data": {
      "text/plain": [
       "<matplotlib.legend.Legend at 0x2a5789930>"
      ]
     },
     "execution_count": 42,
     "metadata": {},
     "output_type": "execute_result"
    },
    {
     "data": {
      "image/png": "[encoded data removed]",
      "text/plain": [
       "<Figure size 640x480 with 2 Axes>"
      ]
     },
     "metadata": {},
     "output_type": "display_data"
    }
   ],
   "source": [
    "plt.subplot(3, 1, 1)\n",
    "plt.plot([loss.detach().numpy() for loss in train_losses], label='training loss')\n",
    "plt.plot([loss.detach().numpy() for loss in test_losses], label='validation loss')\n",
    "plt.title('Loss Metrics')\n",
    "\n",
    "plt.subplot(3, 1, 3)\n",
    "plt.plot([t/600 for t in train_correct], label='training accuracy')\n",
    "plt.plot([t/100 for t in test_correct], label='validation accuracy')\n",
    "plt.title('Accuracy Metrics')\n",
    "\n",
    "plt.legend()"
   ]
  }
 ],
 "metadata": {
  "kernelspec": {
   "display_name": "Python 3",
   "language": "python",
   "name": "python3"
  },
  "language_info": {
   "codemirror_mode": {
    "name": "ipython",
    "version": 3
   },
   "file_extension": ".py",
   "mimetype": "text/x-python",
   "name": "python",
   "nbconvert_exporter": "python",
   "pygments_lexer": "ipython3",
   "version": "3.10.8"
  }
 },
 "nbformat": 4,
 "nbformat_minor": 2
}
